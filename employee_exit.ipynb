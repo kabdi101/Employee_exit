{
 "cells": [
  {
   "cell_type": "markdown",
   "metadata": {
    "collapsed": true
   },
   "source": [
    "** Clean And Analyze Employee Exit Surveys **"
   ]
  },
  {
   "cell_type": "markdown",
   "metadata": {},
   "source": [
    "In this project, we'll work with exit surveys from employees of the Department of Education, Training and Employment (DETE) and the Technical and Further Education (TAFE) institute in Queensland, Australia. We will answer the questions: \n",
    "\n",
    "- Are employees who only worked for the institutes for a short period of time resigning due to some kind of dissatisfaction?\n",
    "\n",
    "- Are long time employees resigning due to some kind of dissatisfaction?\n",
    "\n",
    "- Are younger employees resigning due to some kind of dissatisfaction?\n",
    "\n",
    "- Are older employees resigning due to some kind of dissatisfaction?\n"
   ]
  },
  {
   "cell_type": "code",
   "execution_count": 1277,
   "metadata": {
    "collapsed": true
   },
   "outputs": [],
   "source": [
    "import pandas as pd \n",
    "import numpy as np "
   ]
  },
  {
   "cell_type": "code",
   "execution_count": 1278,
   "metadata": {
    "collapsed": true
   },
   "outputs": [],
   "source": [
    "dete_survey = pd.read_csv('dete_survey.csv'\n",
    "                          , na_values = 'Not Stated')\n",
    "tafe_survey = pd.read_csv('tafe_survey.csv'\n",
    "                          , na_values = 'Not Stated')"
   ]
  },
  {
   "cell_type": "code",
   "execution_count": 1279,
   "metadata": {
    "collapsed": false
   },
   "outputs": [
    {
     "name": "stdout",
     "output_type": "stream",
     "text": [
      "(822, 56)\n"
     ]
    }
   ],
   "source": [
    "print(dete_survey.shape)"
   ]
  },
  {
   "cell_type": "code",
   "execution_count": 1280,
   "metadata": {
    "collapsed": false
   },
   "outputs": [
    {
     "name": "stdout",
     "output_type": "stream",
     "text": [
      "ID                                       0\n",
      "SeparationType                           0\n",
      "Cease Date                              34\n",
      "DETE Start Date                         73\n",
      "Role Start Date                         98\n",
      "Position                                 5\n",
      "Classification                         367\n",
      "Region                                 105\n",
      "Business Unit                          696\n",
      "Employment Status                        5\n",
      "Career move to public sector             0\n",
      "Career move to private sector            0\n",
      "Interpersonal conflicts                  0\n",
      "Job dissatisfaction                      0\n",
      "Dissatisfaction with the department      0\n",
      "Physical work environment                0\n",
      "Lack of recognition                      0\n",
      "Lack of job security                     0\n",
      "Work location                            0\n",
      "Employment conditions                    0\n",
      "Maternity/family                         0\n",
      "Relocation                               0\n",
      "Study/Travel                             0\n",
      "Ill Health                               0\n",
      "Traumatic incident                       0\n",
      "Work life balance                        0\n",
      "Workload                                 0\n",
      "None of the above                        0\n",
      "Professional Development                14\n",
      "Opportunities for promotion             87\n",
      "Staff morale                             6\n",
      "Workplace issue                         34\n",
      "Physical environment                     5\n",
      "Worklife balance                         7\n",
      "Stress and pressure support             12\n",
      "Performance of supervisor                9\n",
      "Peer support                            10\n",
      "Initiative                               9\n",
      "Skills                                  11\n",
      "Coach                                   55\n",
      "Career Aspirations                      76\n",
      "Feedback                                30\n",
      "Further PD                              54\n",
      "Communication                            8\n",
      "My say                                  10\n",
      "Information                              6\n",
      "Kept informed                            9\n",
      "Wellness programs                       56\n",
      "Health & Safety                         29\n",
      "Gender                                  24\n",
      "Age                                     11\n",
      "Aboriginal                             806\n",
      "Torres Strait                          819\n",
      "South Sea                              815\n",
      "Disability                             799\n",
      "NESB                                   790\n",
      "dtype: int64\n"
     ]
    }
   ],
   "source": [
    "print(dete_survey.isnull().sum())"
   ]
  },
  {
   "cell_type": "code",
   "execution_count": 1281,
   "metadata": {
    "collapsed": false
   },
   "outputs": [
    {
     "name": "stdout",
     "output_type": "stream",
     "text": [
      "61 or older      222\n",
      "56-60            174\n",
      "51-55            103\n",
      "46-50             63\n",
      "41-45             61\n",
      "26-30             57\n",
      "36-40             51\n",
      "21-25             40\n",
      "31-35             39\n",
      "NaN               11\n",
      "20 or younger      1\n",
      "Name: Age, dtype: int64\n",
      "\n",
      "\n",
      "False    735\n",
      "True      87\n",
      "Name: Workload, dtype: int64\n",
      "\n",
      "\n",
      "False    733\n",
      "True      89\n",
      "Name: Job dissatisfaction, dtype: int64\n",
      "\n",
      "\n",
      "False    761\n",
      "True      61\n",
      "Name: Dissatisfaction with the department, dtype: int64\n"
     ]
    }
   ],
   "source": [
    "print(dete_survey[\"Age\"].value_counts(dropna=False))\n",
    "print('\\n')\n",
    "print(dete_survey[\"Workload\"].value_counts(dropna=False))\n",
    "print('\\n')\n",
    "print(dete_survey[\"Job dissatisfaction\"].\n",
    "      value_counts(dropna=False))\n",
    "print('\\n')\n",
    "print(dete_survey[\"Dissatisfaction with the department\"].\n",
    "      value_counts(dropna=False))"
   ]
  },
  {
   "cell_type": "markdown",
   "metadata": {},
   "source": [
    "After observing the dete survey data, we have 56 columns and 822 entry. columns such as(bussinis unit, Aboriginal,Torris strait, South sea , and Disability) are majorly consist of na and therefore must be dropped. \n",
    "\n",
    "The age column consist of different categories. Each category is 5 years. There are 11 no entry values, we will explore them later and decide weather to drop them or not. \n",
    "\n",
    "There are a number of columns such as job satisfaction and dissatisfaction with the department that are true and false answers. "
   ]
  },
  {
   "cell_type": "code",
   "execution_count": 1282,
   "metadata": {
    "collapsed": false
   },
   "outputs": [
    {
     "name": "stdout",
     "output_type": "stream",
     "text": [
      "(702, 72)\n"
     ]
    }
   ],
   "source": [
    "print(tafe_survey.shape)"
   ]
  },
  {
   "cell_type": "code",
   "execution_count": 1283,
   "metadata": {
    "collapsed": false
   },
   "outputs": [
    {
     "name": "stdout",
     "output_type": "stream",
     "text": [
      "Record ID                                                                                                                                                          0\n",
      "Institute                                                                                                                                                          0\n",
      "WorkArea                                                                                                                                                           0\n",
      "CESSATION YEAR                                                                                                                                                     7\n",
      "Reason for ceasing employment                                                                                                                                      1\n",
      "Contributing Factors. Career Move - Public Sector                                                                                                                265\n",
      "Contributing Factors. Career Move - Private Sector                                                                                                               265\n",
      "Contributing Factors. Career Move - Self-employment                                                                                                              265\n",
      "Contributing Factors. Ill Health                                                                                                                                 265\n",
      "Contributing Factors. Maternity/Family                                                                                                                           265\n",
      "Contributing Factors. Dissatisfaction                                                                                                                            265\n",
      "Contributing Factors. Job Dissatisfaction                                                                                                                        265\n",
      "Contributing Factors. Interpersonal Conflict                                                                                                                     265\n",
      "Contributing Factors. Study                                                                                                                                      265\n",
      "Contributing Factors. Travel                                                                                                                                     265\n",
      "Contributing Factors. Other                                                                                                                                      265\n",
      "Contributing Factors. NONE                                                                                                                                       265\n",
      "Main Factor. Which of these was the main factor for leaving?                                                                                                     589\n",
      "InstituteViews. Topic:1. I feel the senior leadership had a clear vision and direction                                                                            94\n",
      "InstituteViews. Topic:2. I was given access to skills training to help me do my job better                                                                        89\n",
      "InstituteViews. Topic:3. I was given adequate opportunities for personal development                                                                              92\n",
      "InstituteViews. Topic:4. I was given adequate opportunities for promotion within %Institute]Q25LBL%                                                               94\n",
      "InstituteViews. Topic:5. I felt the salary for the job was right for the responsibilities I had                                                                   87\n",
      "InstituteViews. Topic:6. The organisation recognised when staff did good work                                                                                     95\n",
      "InstituteViews. Topic:7. Management was generally supportive of me                                                                                                88\n",
      "InstituteViews. Topic:8. Management was generally supportive of my team                                                                                           94\n",
      "InstituteViews. Topic:9. I was kept informed of the changes in the organisation which would affect me                                                             92\n",
      "InstituteViews. Topic:10. Staff morale was positive within the Institute                                                                                         100\n",
      "InstituteViews. Topic:11. If I had a workplace issue it was dealt with quickly                                                                                   101\n",
      "InstituteViews. Topic:12. If I had a workplace issue it was dealt with efficiently                                                                               105\n",
      "                                                                                                                                                                ... \n",
      "WorkUnitViews. Topic:25. My job allowed me to balance the demands of work and family to my satisfaction                                                           91\n",
      "WorkUnitViews. Topic:26. My supervisor gave me adequate personal recognition and feedback on my performance                                                       96\n",
      "WorkUnitViews. Topic:27. My working environment was satisfactory e.g. sufficient space, good lighting, suitable seating and working area                          92\n",
      "WorkUnitViews. Topic:28. I was given the opportunity to mentor and coach others in order for me to pass on my skills and knowledge prior to my cessation date     93\n",
      "WorkUnitViews. Topic:29. There was adequate communication between staff in my unit                                                                                99\n",
      "WorkUnitViews. Topic:30. Staff morale was positive within my work unit                                                                                            96\n",
      "Induction. Did you undertake Workplace Induction?                                                                                                                 83\n",
      "InductionInfo. Topic:Did you undertake a Corporate Induction?                                                                                                    270\n",
      "InductionInfo. Topic:Did you undertake a Institute Induction?                                                                                                    219\n",
      "InductionInfo. Topic: Did you undertake Team Induction?                                                                                                          262\n",
      "InductionInfo. Face to Face Topic:Did you undertake a Corporate Induction; Category:How it was conducted?                                                        147\n",
      "InductionInfo. On-line Topic:Did you undertake a Corporate Induction; Category:How it was conducted?                                                             147\n",
      "InductionInfo. Induction Manual Topic:Did you undertake a Corporate Induction?                                                                                   147\n",
      "InductionInfo. Face to Face Topic:Did you undertake a Institute Induction?                                                                                       172\n",
      "InductionInfo. On-line Topic:Did you undertake a Institute Induction?                                                                                            147\n",
      "InductionInfo. Induction Manual Topic:Did you undertake a Institute Induction?                                                                                   149\n",
      "InductionInfo. Face to Face Topic: Did you undertake Team Induction; Category?                                                                                   147\n",
      "InductionInfo. On-line Topic: Did you undertake Team Induction?process you undertook and how it was conducted.]                                                  147\n",
      "InductionInfo. Induction Manual Topic: Did you undertake Team Induction?                                                                                         147\n",
      "Workplace. Topic:Did you and your Manager develop a Performance and Professional Development Plan (PPDP)?                                                         94\n",
      "Workplace. Topic:Does your workplace promote a work culture free from all forms of unlawful discrimination?                                                      108\n",
      "Workplace. Topic:Does your workplace promote and practice the principles of employment equity?                                                                   115\n",
      "Workplace. Topic:Does your workplace value the diversity of its employees?                                                                                       116\n",
      "Workplace. Topic:Would you recommend the Institute as an employer to others?                                                                                     121\n",
      "Gender. What is your Gender?                                                                                                                                     106\n",
      "CurrentAge. Current Age                                                                                                                                          106\n",
      "Employment Type. Employment Type                                                                                                                                 106\n",
      "Classification. Classification                                                                                                                                   106\n",
      "LengthofServiceOverall. Overall Length of Service at Institute (in years)                                                                                        106\n",
      "LengthofServiceCurrent. Length of Service at current workplace (in years)                                                                                        106\n",
      "Length: 72, dtype: int64\n"
     ]
    }
   ],
   "source": [
    "print(tafe_survey.isna().sum())"
   ]
  },
  {
   "cell_type": "code",
   "execution_count": 1284,
   "metadata": {
    "collapsed": false
   },
   "outputs": [
    {
     "name": "stdout",
     "output_type": "stream",
     "text": [
      "56 or older      162\n",
      "NaN              106\n",
      "51-55             82\n",
      "41  45            80\n",
      "46  50            59\n",
      "31  35            52\n",
      "36  40            51\n",
      "26  30            50\n",
      "21  25            44\n",
      "20 or younger     16\n",
      "Name: CurrentAge. Current Age, dtype: int64\n",
      "\n",
      "\n",
      "-                                         371\n",
      "NaN                                       265\n",
      "Contributing Factors. Dissatisfaction      66\n",
      "Name: Contributing Factors. Dissatisfaction, dtype: int64\n",
      "\n",
      "\n",
      " 2011.0    268\n",
      " 2012.0    235\n",
      " 2010.0    103\n",
      " 2013.0     85\n",
      "NaN          7\n",
      " 2009.0      4\n",
      "Name: CESSATION YEAR, dtype: int64\n",
      "\n",
      "\n",
      "Resignation                 340\n",
      "Contract Expired            127\n",
      "Retrenchment/ Redundancy    104\n",
      "Retirement                   82\n",
      "Transfer                     25\n",
      "Termination                  23\n",
      "NaN                           1\n",
      "Name: Reason for ceasing employment, dtype: int64\n"
     ]
    }
   ],
   "source": [
    "print(tafe_survey['CurrentAge. Current Age']\n",
    "      .value_counts(dropna= False))\n",
    "print('\\n')\n",
    "print(tafe_survey['Contributing Factors. Dissatisfaction']\n",
    "      .value_counts(dropna= False))\n",
    "print('\\n')\n",
    "print(tafe_survey['CESSATION YEAR']\n",
    "      .value_counts(dropna= False))\n",
    "print('\\n')\n",
    "print(tafe_survey['Reason for ceasing employment']\n",
    "      .value_counts(dropna= False))"
   ]
  },
  {
   "cell_type": "markdown",
   "metadata": {},
   "source": [
    "After observing the tafe survey data, we have 72 columns and 702 entry. Tafe consist of more columns than dete survey. Thefere, we need more exploring to understand the nature of the columns, some columns consits of -, we will need to undertand it more.\n",
    "\n",
    "It was also noted that The column names in the tafe survey are more complex and need to be cleanned.for example, CESSATION YEAR is an integer instead of date type. \n",
    "\n",
    "The CurrentAge. Current Age column consist of different categories. Each category is 5 years. There are 106 no entry values, we will explore them later and decide weather to drop them or not."
   ]
  },
  {
   "cell_type": "code",
   "execution_count": 1285,
   "metadata": {
    "collapsed": false
   },
   "outputs": [
    {
     "data": {
      "text/html": [
       "<div>\n",
       "<style scoped>\n",
       "    .dataframe tbody tr th:only-of-type {\n",
       "        vertical-align: middle;\n",
       "    }\n",
       "\n",
       "    .dataframe tbody tr th {\n",
       "        vertical-align: top;\n",
       "    }\n",
       "\n",
       "    .dataframe thead th {\n",
       "        text-align: right;\n",
       "    }\n",
       "</style>\n",
       "<table border=\"1\" class=\"dataframe\">\n",
       "  <thead>\n",
       "    <tr style=\"text-align: right;\">\n",
       "      <th></th>\n",
       "      <th>Record ID</th>\n",
       "      <th>Institute</th>\n",
       "      <th>WorkArea</th>\n",
       "      <th>CESSATION YEAR</th>\n",
       "      <th>Reason for ceasing employment</th>\n",
       "      <th>Contributing Factors. Career Move - Public Sector</th>\n",
       "      <th>Contributing Factors. Career Move - Private Sector</th>\n",
       "      <th>Contributing Factors. Career Move - Self-employment</th>\n",
       "      <th>Contributing Factors. Ill Health</th>\n",
       "      <th>Contributing Factors. Maternity/Family</th>\n",
       "      <th>Contributing Factors. Dissatisfaction</th>\n",
       "      <th>Contributing Factors. Job Dissatisfaction</th>\n",
       "      <th>Contributing Factors. Interpersonal Conflict</th>\n",
       "      <th>Contributing Factors. Study</th>\n",
       "      <th>Contributing Factors. Travel</th>\n",
       "    </tr>\n",
       "  </thead>\n",
       "  <tbody>\n",
       "    <tr>\n",
       "      <th>0</th>\n",
       "      <td>6.341330e+17</td>\n",
       "      <td>Southern Queensland Institute of TAFE</td>\n",
       "      <td>Non-Delivery (corporate)</td>\n",
       "      <td>2010.0</td>\n",
       "      <td>Contract Expired</td>\n",
       "      <td>NaN</td>\n",
       "      <td>NaN</td>\n",
       "      <td>NaN</td>\n",
       "      <td>NaN</td>\n",
       "      <td>NaN</td>\n",
       "      <td>NaN</td>\n",
       "      <td>NaN</td>\n",
       "      <td>NaN</td>\n",
       "      <td>NaN</td>\n",
       "      <td>NaN</td>\n",
       "    </tr>\n",
       "    <tr>\n",
       "      <th>1</th>\n",
       "      <td>6.341337e+17</td>\n",
       "      <td>Mount Isa Institute of TAFE</td>\n",
       "      <td>Non-Delivery (corporate)</td>\n",
       "      <td>2010.0</td>\n",
       "      <td>Retirement</td>\n",
       "      <td>-</td>\n",
       "      <td>-</td>\n",
       "      <td>-</td>\n",
       "      <td>-</td>\n",
       "      <td>-</td>\n",
       "      <td>-</td>\n",
       "      <td>-</td>\n",
       "      <td>-</td>\n",
       "      <td>-</td>\n",
       "      <td>Travel</td>\n",
       "    </tr>\n",
       "    <tr>\n",
       "      <th>2</th>\n",
       "      <td>6.341388e+17</td>\n",
       "      <td>Mount Isa Institute of TAFE</td>\n",
       "      <td>Delivery (teaching)</td>\n",
       "      <td>2010.0</td>\n",
       "      <td>Retirement</td>\n",
       "      <td>-</td>\n",
       "      <td>-</td>\n",
       "      <td>-</td>\n",
       "      <td>-</td>\n",
       "      <td>-</td>\n",
       "      <td>-</td>\n",
       "      <td>-</td>\n",
       "      <td>-</td>\n",
       "      <td>-</td>\n",
       "      <td>-</td>\n",
       "    </tr>\n",
       "  </tbody>\n",
       "</table>\n",
       "</div>"
      ],
      "text/plain": [
       "      Record ID                              Institute  \\\n",
       "0  6.341330e+17  Southern Queensland Institute of TAFE   \n",
       "1  6.341337e+17            Mount Isa Institute of TAFE   \n",
       "2  6.341388e+17            Mount Isa Institute of TAFE   \n",
       "\n",
       "                   WorkArea  CESSATION YEAR Reason for ceasing employment  \\\n",
       "0  Non-Delivery (corporate)          2010.0              Contract Expired   \n",
       "1  Non-Delivery (corporate)          2010.0                    Retirement   \n",
       "2       Delivery (teaching)          2010.0                    Retirement   \n",
       "\n",
       "  Contributing Factors. Career Move - Public Sector   \\\n",
       "0                                                NaN   \n",
       "1                                                  -   \n",
       "2                                                  -   \n",
       "\n",
       "  Contributing Factors. Career Move - Private Sector   \\\n",
       "0                                                NaN    \n",
       "1                                                  -    \n",
       "2                                                  -    \n",
       "\n",
       "  Contributing Factors. Career Move - Self-employment  \\\n",
       "0                                                NaN    \n",
       "1                                                  -    \n",
       "2                                                  -    \n",
       "\n",
       "  Contributing Factors. Ill Health Contributing Factors. Maternity/Family  \\\n",
       "0                              NaN                                    NaN   \n",
       "1                                -                                      -   \n",
       "2                                -                                      -   \n",
       "\n",
       "  Contributing Factors. Dissatisfaction  \\\n",
       "0                                   NaN   \n",
       "1                                     -   \n",
       "2                                     -   \n",
       "\n",
       "  Contributing Factors. Job Dissatisfaction  \\\n",
       "0                                       NaN   \n",
       "1                                         -   \n",
       "2                                         -   \n",
       "\n",
       "  Contributing Factors. Interpersonal Conflict Contributing Factors. Study  \\\n",
       "0                                          NaN                         NaN   \n",
       "1                                            -                           -   \n",
       "2                                            -                           -   \n",
       "\n",
       "  Contributing Factors. Travel  \n",
       "0                          NaN  \n",
       "1                       Travel  \n",
       "2                            -  "
      ]
     },
     "execution_count": 1285,
     "metadata": {},
     "output_type": "execute_result"
    }
   ],
   "source": [
    "tafe_survey.iloc[0:3,0:15]"
   ]
  },
  {
   "cell_type": "markdown",
   "metadata": {
    "collapsed": true
   },
   "source": [
    "To make the analysis smoother, we will drop all the columns that we do not need from both surveys."
   ]
  },
  {
   "cell_type": "code",
   "execution_count": 1286,
   "metadata": {
    "collapsed": false
   },
   "outputs": [],
   "source": [
    "dete_survey_updated = dete_survey.drop(dete_survey\n",
    "                                       .columns[28:49], axis = 1)"
   ]
  },
  {
   "cell_type": "code",
   "execution_count": 1287,
   "metadata": {
    "collapsed": true
   },
   "outputs": [],
   "source": [
    "tafe_survey_updated = tafe_survey.drop(tafe_survey\n",
    "                                      .columns[17:66], axis =1)"
   ]
  },
  {
   "cell_type": "code",
   "execution_count": 1288,
   "metadata": {
    "collapsed": false
   },
   "outputs": [
    {
     "name": "stdout",
     "output_type": "stream",
     "text": [
      "Index(['id', 'separationtype', 'cease_date', 'dete_start_date',\n",
      "       'role_start_date', 'position', 'classification', 'region',\n",
      "       'business_unit', 'employment_status', 'career_move_to_public_sector',\n",
      "       'career_move_to_private_sector', 'interpersonal_conflicts',\n",
      "       'job_dissatisfaction', 'dissatisfaction_with_the_department',\n",
      "       'physical_work_environment', 'lack_of_recognition',\n",
      "       'lack_of_job_security', 'work_location', 'employment_conditions',\n",
      "       'maternity/family', 'relocation', 'study/travel', 'ill_health',\n",
      "       'traumatic_incident', 'work_life_balance', 'workload',\n",
      "       'none_of_the_above', 'gender', 'age', 'aboriginal', 'torres_strait',\n",
      "       'south_sea', 'disability', 'nesb'],\n",
      "      dtype='object')\n"
     ]
    }
   ],
   "source": [
    "dete_survey_updated.columns =(dete_survey_updated\n",
    "                             .columns\n",
    "                             .str.replace(' ', '_')\n",
    "                             .str.strip()\n",
    "                             .str.lower())\n",
    "print(dete_survey_updated.columns)"
   ]
  },
  {
   "cell_type": "code",
   "execution_count": 1289,
   "metadata": {
    "collapsed": false
   },
   "outputs": [
    {
     "data": {
      "text/plain": [
       "Index(['id', 'Institute', 'WorkArea', 'cease_date', 'separationtype',\n",
       "       'Contributing Factors. Career Move - Public Sector ',\n",
       "       'Contributing Factors. Career Move - Private Sector ',\n",
       "       'Contributing Factors. Career Move - Self-employment',\n",
       "       'Contributing Factors. Ill Health',\n",
       "       'Contributing Factors. Maternity/Family',\n",
       "       'Contributing Factors. Dissatisfaction',\n",
       "       'Contributing Factors. Job Dissatisfaction',\n",
       "       'Contributing Factors. Interpersonal Conflict',\n",
       "       'Contributing Factors. Study', 'Contributing Factors. Travel',\n",
       "       'Contributing Factors. Other', 'Contributing Factors. NONE', 'gender',\n",
       "       'age', 'employment_status', 'position', 'institute_service',\n",
       "       'role_service'],\n",
       "      dtype='object')"
      ]
     },
     "execution_count": 1289,
     "metadata": {},
     "output_type": "execute_result"
    }
   ],
   "source": [
    "tafe_survey_updated=tafe_survey_updated.rename({'Record ID': 'id',\n",
    "                           'CESSATION YEAR': 'cease_date',\n",
    "                           'Reason for ceasing employment': 'separationtype',\n",
    "                           'Gender. What is your Gender?': 'gender',\n",
    "                           'CurrentAge. Current Age': 'age',\n",
    "                           'Employment Type. Employment Type': 'employment_status',\n",
    "                           'Classification. Classification': 'position',\n",
    "                           'LengthofServiceOverall. Overall Length of Service at Institute (in years)': 'institute_service',\n",
    "                           'LengthofServiceCurrent. Length of Service at current workplace (in years)': 'role_service'}, axis =1)\n",
    "tafe_survey_updated.columns"
   ]
  },
  {
   "cell_type": "markdown",
   "metadata": {
    "collapsed": true
   },
   "source": [
    "We cleaned up the column name in both data set, replaced some column names, unified the column names in both dataset so that we could combine them and analyze one data set with allof the information. "
   ]
  },
  {
   "cell_type": "markdown",
   "metadata": {},
   "source": [
    "** declaring what data we want from the datasets and droping the rest**\n",
    "\n",
    "If we look at the unique values in the separationtype columns in each dataframe, we'll see that each contains a couple of different separation types. For this project, we'll only analyze survey respondents who resigned, so their separation type contains the string 'Resignation'.\n",
    "\n",
    "in the tafe survey, we have one category of Resignation. On the other hand, we have multiple Resignation types in dete survey. "
   ]
  },
  {
   "cell_type": "code",
   "execution_count": 1290,
   "metadata": {
    "collapsed": false
   },
   "outputs": [
    {
     "name": "stdout",
     "output_type": "stream",
     "text": [
      "Age Retirement                          285\n",
      "Resignation-Other reasons               150\n",
      "Resignation-Other employer               91\n",
      "Resignation-Move overseas/interstate     70\n",
      "Voluntary Early Retirement (VER)         67\n",
      "Ill Health Retirement                    61\n",
      "Other                                    49\n",
      "Contract Expired                         34\n",
      "Termination                              15\n",
      "Name: separationtype, dtype: int64\n",
      "\n",
      "\n",
      "Resignation                 340\n",
      "Contract Expired            127\n",
      "Retrenchment/ Redundancy    104\n",
      "Retirement                   82\n",
      "Transfer                     25\n",
      "Termination                  23\n",
      "Name: separationtype, dtype: int64\n"
     ]
    }
   ],
   "source": [
    "print(dete_survey_updated['separationtype']\n",
    "      .value_counts())\n",
    "print('\\n')\n",
    "print(tafe_survey_updated['separationtype']\n",
    "      .value_counts())"
   ]
  },
  {
   "cell_type": "code",
   "execution_count": 1291,
   "metadata": {
    "collapsed": false
   },
   "outputs": [],
   "source": [
    "resignation = tafe_survey_updated['separationtype'] == 'Resignation' \n",
    "tafe_resign = tafe_survey_updated[resignation].copy()"
   ]
  },
  {
   "cell_type": "code",
   "execution_count": 1292,
   "metadata": {
    "collapsed": false
   },
   "outputs": [],
   "source": [
    "pattern = r\"[Rr]esignation\"\n",
    "resignation2 = (dete_survey_updated['separationtype']\n",
    "               .str.contains(pattern))\n",
    "dete_resign = dete_survey_updated[resignation2].copy()"
   ]
  },
  {
   "cell_type": "markdown",
   "metadata": {},
   "source": [
    "Now we created two new dataframes, dete_resign and tafe_resign, which only includes information about employees who choose to resign. Just to make both data frames look thae same, we will seperate the string at the seperation colum in dete_resign and keep the first world."
   ]
  },
  {
   "cell_type": "code",
   "execution_count": 1293,
   "metadata": {
    "collapsed": false
   },
   "outputs": [
    {
     "data": {
      "text/plain": [
       "Resignation    311\n",
       "Name: separationtype, dtype: int64"
      ]
     },
     "execution_count": 1293,
     "metadata": {},
     "output_type": "execute_result"
    }
   ],
   "source": [
    "dete_resign['separationtype'] = (dete_resign['separationtype']\n",
    "                                 .str.split('-')\n",
    "                                 .str[0])\n",
    "dete_resign['separationtype'].value_counts()"
   ]
  },
  {
   "cell_type": "markdown",
   "metadata": {},
   "source": [
    "One of the crucial points in this project is to know how long the emplyee lasted before resigning. The columns cease_date and dete_start_date makes sense before we start analyzing.\n",
    "\n",
    "Given that most people in this field start working in their 20s, it's also unlikely that the dete_start_date was before the year 1940.If we have many years higher than the current date or lower than 1940, we wouldn't want to continue with our analysis, because it could mean there's something very wrong with the data."
   ]
  },
  {
   "cell_type": "code",
   "execution_count": 1294,
   "metadata": {
    "collapsed": false
   },
   "outputs": [
    {
     "data": {
      "text/plain": [
       "2012       126\n",
       "2013        74\n",
       "01/2014     22\n",
       "12/2013     17\n",
       "06/2013     14\n",
       "09/2013     11\n",
       "07/2013      9\n",
       "11/2013      9\n",
       "10/2013      6\n",
       "08/2013      4\n",
       "05/2012      2\n",
       "05/2013      2\n",
       "2010         1\n",
       "07/2012      1\n",
       "09/2010      1\n",
       "07/2006      1\n",
       "Name: cease_date, dtype: int64"
      ]
     },
     "execution_count": 1294,
     "metadata": {},
     "output_type": "execute_result"
    }
   ],
   "source": [
    "dete_resign['cease_date'].value_counts()"
   ]
  },
  {
   "cell_type": "code",
   "execution_count": 1295,
   "metadata": {
    "collapsed": false
   },
   "outputs": [],
   "source": [
    "dete_resign['cease_date']=(dete_resign['cease_date']\n",
    "                           .str.split('/')\n",
    "                           .str[-1].astype(\"float\"))"
   ]
  },
  {
   "cell_type": "code",
   "execution_count": 1296,
   "metadata": {
    "collapsed": false
   },
   "outputs": [
    {
     "data": {
      "text/plain": [
       "2006.0      1\n",
       "2010.0      2\n",
       "2012.0    129\n",
       "2013.0    146\n",
       "2014.0     22\n",
       "Name: cease_date, dtype: int64"
      ]
     },
     "execution_count": 1296,
     "metadata": {},
     "output_type": "execute_result"
    }
   ],
   "source": [
    "dete_resign['cease_date'].value_counts().sort_index(ascending = True)"
   ]
  },
  {
   "cell_type": "code",
   "execution_count": 1297,
   "metadata": {
    "collapsed": false
   },
   "outputs": [
    {
     "data": {
      "text/plain": [
       "1963.0     1\n",
       "1971.0     1\n",
       "1972.0     1\n",
       "1973.0     1\n",
       "1974.0     2\n",
       "1975.0     1\n",
       "1976.0     2\n",
       "1977.0     1\n",
       "1980.0     5\n",
       "1982.0     1\n",
       "1983.0     2\n",
       "1984.0     1\n",
       "1985.0     3\n",
       "1986.0     3\n",
       "1987.0     1\n",
       "1988.0     4\n",
       "1989.0     4\n",
       "1990.0     5\n",
       "1991.0     4\n",
       "1992.0     6\n",
       "1993.0     5\n",
       "1994.0     6\n",
       "1995.0     4\n",
       "1996.0     6\n",
       "1997.0     5\n",
       "1998.0     6\n",
       "1999.0     8\n",
       "2000.0     9\n",
       "2001.0     3\n",
       "2002.0     6\n",
       "2003.0     6\n",
       "2004.0    14\n",
       "2005.0    15\n",
       "2006.0    13\n",
       "2007.0    21\n",
       "2008.0    22\n",
       "2009.0    13\n",
       "2010.0    17\n",
       "2011.0    24\n",
       "2012.0    21\n",
       "2013.0    10\n",
       "Name: dete_start_date, dtype: int64"
      ]
     },
     "execution_count": 1297,
     "metadata": {},
     "output_type": "execute_result"
    }
   ],
   "source": [
    "dete_resign['dete_start_date'].value_counts().sort_index(ascending = True)"
   ]
  },
  {
   "cell_type": "code",
   "execution_count": 1298,
   "metadata": {
    "collapsed": false
   },
   "outputs": [
    {
     "data": {
      "text/plain": [
       "2009.0      2\n",
       "2010.0     68\n",
       "2011.0    116\n",
       "2012.0     94\n",
       "2013.0     55\n",
       "Name: cease_date, dtype: int64"
      ]
     },
     "execution_count": 1298,
     "metadata": {},
     "output_type": "execute_result"
    }
   ],
   "source": [
    "tafe_resign['cease_date'].value_counts().sort_index(ascending = True)"
   ]
  },
  {
   "cell_type": "markdown",
   "metadata": {},
   "source": [
    "After inspecting the cease_date column in both dataframes and the dete_start_date in dete survey, it seems like all the dates are with in range. Nothing seems off or weird. \n",
    "\n",
    "The main question in this project revolves around knowing the length of time before resignning. \n",
    "in the dete_resign data frame, we have a column that represent the start date and a column that represent the end date. we will use these info to create a new column called \"institute_service\" which exists in the tafe datframe."
   ]
  },
  {
   "cell_type": "code",
   "execution_count": 1299,
   "metadata": {
    "collapsed": false
   },
   "outputs": [],
   "source": [
    "dete_resign['institute_service'] = (dete_resign['cease_date'] - dete_resign['dete_start_date'])"
   ]
  },
  {
   "cell_type": "code",
   "execution_count": 1300,
   "metadata": {
    "collapsed": false
   },
   "outputs": [
    {
     "data": {
      "text/html": [
       "<div>\n",
       "<style scoped>\n",
       "    .dataframe tbody tr th:only-of-type {\n",
       "        vertical-align: middle;\n",
       "    }\n",
       "\n",
       "    .dataframe tbody tr th {\n",
       "        vertical-align: top;\n",
       "    }\n",
       "\n",
       "    .dataframe thead th {\n",
       "        text-align: right;\n",
       "    }\n",
       "</style>\n",
       "<table border=\"1\" class=\"dataframe\">\n",
       "  <thead>\n",
       "    <tr style=\"text-align: right;\">\n",
       "      <th></th>\n",
       "      <th>cease_date</th>\n",
       "      <th>dete_start_date</th>\n",
       "      <th>institute_service</th>\n",
       "    </tr>\n",
       "  </thead>\n",
       "  <tbody>\n",
       "    <tr>\n",
       "      <th>3</th>\n",
       "      <td>2012.0</td>\n",
       "      <td>2005.0</td>\n",
       "      <td>7.0</td>\n",
       "    </tr>\n",
       "    <tr>\n",
       "      <th>5</th>\n",
       "      <td>2012.0</td>\n",
       "      <td>1994.0</td>\n",
       "      <td>18.0</td>\n",
       "    </tr>\n",
       "    <tr>\n",
       "      <th>8</th>\n",
       "      <td>2012.0</td>\n",
       "      <td>2009.0</td>\n",
       "      <td>3.0</td>\n",
       "    </tr>\n",
       "    <tr>\n",
       "      <th>9</th>\n",
       "      <td>2012.0</td>\n",
       "      <td>1997.0</td>\n",
       "      <td>15.0</td>\n",
       "    </tr>\n",
       "    <tr>\n",
       "      <th>11</th>\n",
       "      <td>2012.0</td>\n",
       "      <td>2009.0</td>\n",
       "      <td>3.0</td>\n",
       "    </tr>\n",
       "  </tbody>\n",
       "</table>\n",
       "</div>"
      ],
      "text/plain": [
       "    cease_date  dete_start_date  institute_service\n",
       "3       2012.0           2005.0                7.0\n",
       "5       2012.0           1994.0               18.0\n",
       "8       2012.0           2009.0                3.0\n",
       "9       2012.0           1997.0               15.0\n",
       "11      2012.0           2009.0                3.0"
      ]
     },
     "execution_count": 1300,
     "metadata": {},
     "output_type": "execute_result"
    }
   ],
   "source": [
    "dete_resign[['cease_date','dete_start_date','institute_service']].head()"
   ]
  },
  {
   "cell_type": "markdown",
   "metadata": {},
   "source": [
    "Next, we'll identify any employees who resigned because they were dissatisfied. we will pay attention to these columns going forwrd. \n",
    "\n",
    "- dafe_survey_updated:\n",
    "job_dissatisfaction, dissatisfaction_with_the_department,physical_work_environment, lack_of_recognition, lack_of_job_security, work_location, employment_conditions, work_life_balance, workload\n",
    "\n",
    "- tafe_survey_updated:\n",
    "Contributing Factors. Dissatisfaction, Contributing Factors.Job Dissatisfaction.\n",
    "\n",
    "** If the employee indicated any of the factors above caused them to resign, we'll mark them as dissatisfied in a new column**\n",
    "\n",
    "- True: indicates a person resigned because they were dissatisfied in some way\n",
    "- False: indicates a person resigned because of a reason other than dissatisfaction with the job\n",
    "- NaN: indicates the value is missing"
   ]
  },
  {
   "cell_type": "code",
   "execution_count": 1301,
   "metadata": {
    "collapsed": false
   },
   "outputs": [
    {
     "name": "stdout",
     "output_type": "stream",
     "text": [
      "-                                         277\n",
      "Contributing Factors. Dissatisfaction      55\n",
      "NaN                                         8\n",
      "Name: Contributing Factors. Dissatisfaction, dtype: int64\n",
      "\n",
      "\n",
      "-                      270\n",
      "Job Dissatisfaction     62\n",
      "NaN                      8\n",
      "Name: Contributing Factors. Job Dissatisfaction, dtype: int64\n"
     ]
    }
   ],
   "source": [
    "print(tafe_resign['Contributing Factors. Dissatisfaction']\n",
    "      .value_counts(dropna = False))\n",
    "print('\\n')\n",
    "print(tafe_resign['Contributing Factors. Job Dissatisfaction']\n",
    "      .value_counts(dropna = False))"
   ]
  },
  {
   "cell_type": "code",
   "execution_count": 1302,
   "metadata": {
    "collapsed": true
   },
   "outputs": [],
   "source": [
    "def update_vals(x):\n",
    "    if pd.isnull(x):\n",
    "        return np.nan\n",
    "    elif x == '-':\n",
    "        return False \n",
    "    else:\n",
    "        return True   "
   ]
  },
  {
   "cell_type": "code",
   "execution_count": 1303,
   "metadata": {
    "collapsed": false
   },
   "outputs": [
    {
     "data": {
      "text/plain": [
       "False    241\n",
       "True      91\n",
       "NaN        8\n",
       "Name: dissatisfied, dtype: int64"
      ]
     },
     "execution_count": 1303,
     "metadata": {},
     "output_type": "execute_result"
    }
   ],
   "source": [
    "tafe_resign['dissatisfied'] = (tafe_resign[['Contributing Factors. Job Dissatisfaction','Contributing Factors. Dissatisfaction']]\n",
    "                               .applymap(update_vals).any(1, skipna= False))\n",
    "tafe_resign_new = tafe_resign.copy()\n",
    "tafe_resign_new['dissatisfied'].value_counts(dropna= False)"
   ]
  },
  {
   "cell_type": "code",
   "execution_count": 1304,
   "metadata": {
    "collapsed": false
   },
   "outputs": [
    {
     "data": {
      "text/plain": [
       "False    162\n",
       "True     149\n",
       "Name: dissatisfied, dtype: int64"
      ]
     },
     "execution_count": 1304,
     "metadata": {},
     "output_type": "execute_result"
    }
   ],
   "source": [
    "dete_resign['dissatisfied'] = dete_resign[['job_dissatisfaction',\n",
    "       'dissatisfaction_with_the_department', 'physical_work_environment',\n",
    "       'lack_of_recognition', 'lack_of_job_security', 'work_location',\n",
    "       'employment_conditions', 'work_life_balance',\n",
    "       'workload']].any(1, skipna=False)\n",
    "\n",
    "\n",
    "\n",
    "dete_resign_new = dete_resign.copy()\n",
    "dete_resign_new['dissatisfied'].value_counts(dropna= False)"
   ]
  },
  {
   "cell_type": "markdown",
   "metadata": {},
   "source": [
    "Next, we'll combin the datasets. we will aggregate according to the institute_service column."
   ]
  },
  {
   "cell_type": "code",
   "execution_count": 1305,
   "metadata": {
    "collapsed": true
   },
   "outputs": [],
   "source": [
    "dete_resign_new['institute'] = 'DETE'\n",
    "tafe_resign_new['institute'] = 'TAFE'"
   ]
  },
  {
   "cell_type": "code",
   "execution_count": 1306,
   "metadata": {
    "collapsed": true
   },
   "outputs": [],
   "source": [
    "combined = pd.concat([dete_resign_new, tafe_resign_new], ignore_index = True)"
   ]
  },
  {
   "cell_type": "code",
   "execution_count": 1307,
   "metadata": {
    "collapsed": false
   },
   "outputs": [],
   "source": [
    "combined_updated = combined.dropna(thresh = 500, axis = 1).copy()"
   ]
  },
  {
   "cell_type": "code",
   "execution_count": 1308,
   "metadata": {
    "collapsed": false
   },
   "outputs": [
    {
     "data": {
      "text/html": [
       "<div>\n",
       "<style scoped>\n",
       "    .dataframe tbody tr th:only-of-type {\n",
       "        vertical-align: middle;\n",
       "    }\n",
       "\n",
       "    .dataframe tbody tr th {\n",
       "        vertical-align: top;\n",
       "    }\n",
       "\n",
       "    .dataframe thead th {\n",
       "        text-align: right;\n",
       "    }\n",
       "</style>\n",
       "<table border=\"1\" class=\"dataframe\">\n",
       "  <thead>\n",
       "    <tr style=\"text-align: right;\">\n",
       "      <th></th>\n",
       "      <th>age</th>\n",
       "      <th>cease_date</th>\n",
       "      <th>dissatisfied</th>\n",
       "      <th>employment_status</th>\n",
       "      <th>gender</th>\n",
       "      <th>id</th>\n",
       "      <th>institute</th>\n",
       "      <th>institute_service</th>\n",
       "      <th>position</th>\n",
       "      <th>separationtype</th>\n",
       "    </tr>\n",
       "  </thead>\n",
       "  <tbody>\n",
       "    <tr>\n",
       "      <th>0</th>\n",
       "      <td>36-40</td>\n",
       "      <td>2012.0</td>\n",
       "      <td>False</td>\n",
       "      <td>Permanent Full-time</td>\n",
       "      <td>Female</td>\n",
       "      <td>4.0</td>\n",
       "      <td>DETE</td>\n",
       "      <td>7</td>\n",
       "      <td>Teacher</td>\n",
       "      <td>Resignation</td>\n",
       "    </tr>\n",
       "    <tr>\n",
       "      <th>1</th>\n",
       "      <td>41-45</td>\n",
       "      <td>2012.0</td>\n",
       "      <td>True</td>\n",
       "      <td>Permanent Full-time</td>\n",
       "      <td>Female</td>\n",
       "      <td>6.0</td>\n",
       "      <td>DETE</td>\n",
       "      <td>18</td>\n",
       "      <td>Guidance Officer</td>\n",
       "      <td>Resignation</td>\n",
       "    </tr>\n",
       "    <tr>\n",
       "      <th>2</th>\n",
       "      <td>31-35</td>\n",
       "      <td>2012.0</td>\n",
       "      <td>False</td>\n",
       "      <td>Permanent Full-time</td>\n",
       "      <td>Female</td>\n",
       "      <td>9.0</td>\n",
       "      <td>DETE</td>\n",
       "      <td>3</td>\n",
       "      <td>Teacher</td>\n",
       "      <td>Resignation</td>\n",
       "    </tr>\n",
       "    <tr>\n",
       "      <th>3</th>\n",
       "      <td>46-50</td>\n",
       "      <td>2012.0</td>\n",
       "      <td>True</td>\n",
       "      <td>Permanent Part-time</td>\n",
       "      <td>Female</td>\n",
       "      <td>10.0</td>\n",
       "      <td>DETE</td>\n",
       "      <td>15</td>\n",
       "      <td>Teacher Aide</td>\n",
       "      <td>Resignation</td>\n",
       "    </tr>\n",
       "    <tr>\n",
       "      <th>4</th>\n",
       "      <td>31-35</td>\n",
       "      <td>2012.0</td>\n",
       "      <td>False</td>\n",
       "      <td>Permanent Full-time</td>\n",
       "      <td>Male</td>\n",
       "      <td>12.0</td>\n",
       "      <td>DETE</td>\n",
       "      <td>3</td>\n",
       "      <td>Teacher</td>\n",
       "      <td>Resignation</td>\n",
       "    </tr>\n",
       "  </tbody>\n",
       "</table>\n",
       "</div>"
      ],
      "text/plain": [
       "     age  cease_date dissatisfied    employment_status  gender    id  \\\n",
       "0  36-40      2012.0        False  Permanent Full-time  Female   4.0   \n",
       "1  41-45      2012.0         True  Permanent Full-time  Female   6.0   \n",
       "2  31-35      2012.0        False  Permanent Full-time  Female   9.0   \n",
       "3  46-50      2012.0         True  Permanent Part-time  Female  10.0   \n",
       "4  31-35      2012.0        False  Permanent Full-time    Male  12.0   \n",
       "\n",
       "  institute institute_service          position separationtype  \n",
       "0      DETE                 7           Teacher    Resignation  \n",
       "1      DETE                18  Guidance Officer    Resignation  \n",
       "2      DETE                 3           Teacher    Resignation  \n",
       "3      DETE                15      Teacher Aide    Resignation  \n",
       "4      DETE                 3           Teacher    Resignation  "
      ]
     },
     "execution_count": 1308,
     "metadata": {},
     "output_type": "execute_result"
    }
   ],
   "source": [
    "combined_updated.head()"
   ]
  },
  {
   "cell_type": "code",
   "execution_count": 1309,
   "metadata": {
    "collapsed": false
   },
   "outputs": [
    {
     "name": "stdout",
     "output_type": "stream",
     "text": [
      "NaN                 88\n",
      "Less than 1 year    73\n",
      "1-2                 64\n",
      "3-4                 63\n",
      "5-6                 33\n",
      "11-20               26\n",
      "5.0                 23\n",
      "1.0                 22\n",
      "7-10                21\n",
      "0.0                 20\n",
      "Name: institute_service, dtype: int64\n"
     ]
    }
   ],
   "source": [
    "print(combined_updated['institute_service']\n",
    "      .value_counts(dropna= False).head(10))"
   ]
  },
  {
   "cell_type": "markdown",
   "metadata": {},
   "source": [
    "Next we will categorize the values in institute_service column using:\n",
    "\n",
    "- New: Less than 3 years at a company\n",
    "- Experienced: 3-6 years at a company\n",
    "- Established: 7-10 years at a company\n",
    "- Veteran: 11 or more years at a company\n"
   ]
  },
  {
   "cell_type": "code",
   "execution_count": 1311,
   "metadata": {
    "collapsed": false
   },
   "outputs": [],
   "source": [
    "combined_updated['institute_service'] = combined_updated['institute_service'].astype(\"str\")"
   ]
  },
  {
   "cell_type": "code",
   "execution_count": 1312,
   "metadata": {
    "collapsed": false
   },
   "outputs": [
    {
     "data": {
      "text/plain": [
       "nan                   88\n",
       "Less than 1 year      73\n",
       "1-2                   64\n",
       "3-4                   63\n",
       "5-6                   33\n",
       "11-20                 26\n",
       "5.0                   23\n",
       "1.0                   22\n",
       "7-10                  21\n",
       "3.0                   20\n",
       "0.0                   20\n",
       "6.0                   17\n",
       "4.0                   16\n",
       "9.0                   14\n",
       "2.0                   14\n",
       "7.0                   13\n",
       "More than 20 years    10\n",
       "8.0                    8\n",
       "13.0                   8\n",
       "20.0                   7\n",
       "15.0                   7\n",
       "10.0                   6\n",
       "17.0                   6\n",
       "22.0                   6\n",
       "12.0                   6\n",
       "14.0                   6\n",
       "18.0                   5\n",
       "16.0                   5\n",
       "23.0                   4\n",
       "24.0                   4\n",
       "11.0                   4\n",
       "21.0                   3\n",
       "32.0                   3\n",
       "19.0                   3\n",
       "39.0                   3\n",
       "30.0                   2\n",
       "26.0                   2\n",
       "36.0                   2\n",
       "25.0                   2\n",
       "28.0                   2\n",
       "41.0                   1\n",
       "27.0                   1\n",
       "31.0                   1\n",
       "29.0                   1\n",
       "33.0                   1\n",
       "35.0                   1\n",
       "42.0                   1\n",
       "34.0                   1\n",
       "38.0                   1\n",
       "49.0                   1\n",
       "Name: institute_service, dtype: int64"
      ]
     },
     "execution_count": 1312,
     "metadata": {},
     "output_type": "execute_result"
    }
   ],
   "source": [
    "combined_updated['institute_service'].value_counts()"
   ]
  },
  {
   "cell_type": "code",
   "execution_count": 1315,
   "metadata": {
    "collapsed": false
   },
   "outputs": [],
   "source": [
    "combined_updated['institute_service'] = (combined_updated['institute_service']\n",
    "                                        .str.replace(\"Less than 1 year\", \"1\")\n",
    "                                        .str.replace(\"More than 20 years\", \"20.0\")\n",
    "                                        .str.split('-')\n",
    "                                        .str[-1]\n",
    "                                        .str.strip()\n",
    "                                        .astype(\"float\"))"
   ]
  },
  {
   "cell_type": "code",
   "execution_count": 1318,
   "metadata": {
    "collapsed": false
   },
   "outputs": [],
   "source": [
    "mean_values = combined_updated['institute_service'].mean()\n",
    "combined_updated['institute_service'] = combined_updated['institute_service'].fillna(mean_values)"
   ]
  },
  {
   "cell_type": "code",
   "execution_count": 1347,
   "metadata": {
    "collapsed": false
   },
   "outputs": [],
   "source": [
    "def ex(x):\n",
    "    if pd.isnull(x):\n",
    "        return np.nan\n",
    "    elif x < 3.0:\n",
    "        return \"New\"\n",
    "    elif 3.0 <= x <= 6.0:\n",
    "        return \"Experienced\"\n",
    "    elif 7.0 <= x <= 10.0:\n",
    "        return \"Established\"\n",
    "    elif 11.0 <= x:\n",
    "        return \"Veteran\""
   ]
  },
  {
   "cell_type": "code",
   "execution_count": 1348,
   "metadata": {
    "collapsed": false
   },
   "outputs": [],
   "source": [
    "combined_updated['service_cat'] =(combined_updated['institute_service']\n",
    "                                  .apply(ex))"
   ]
  },
  {
   "cell_type": "code",
   "execution_count": 1349,
   "metadata": {
    "collapsed": false
   },
   "outputs": [
    {
     "data": {
      "text/plain": [
       "New            193\n",
       "Experienced    172\n",
       "Established    150\n",
       "Veteran        136\n",
       "Name: service_cat, dtype: int64"
      ]
     },
     "execution_count": 1349,
     "metadata": {},
     "output_type": "execute_result"
    }
   ],
   "source": [
    "combined_updated['service_cat'].value_counts(dropna = False)"
   ]
  },
  {
   "cell_type": "code",
   "execution_count": 1326,
   "metadata": {
    "collapsed": false
   },
   "outputs": [
    {
     "data": {
      "text/plain": [
       "False    411\n",
       "True     240\n",
       "Name: dissatisfied, dtype: int64"
      ]
     },
     "execution_count": 1326,
     "metadata": {},
     "output_type": "execute_result"
    }
   ],
   "source": [
    "combined_updated['dissatisfied'] = combined_updated['dissatisfied']\n",
    "\n",
    "combined_updated['dissatisfied'].value_counts(dropna = False)"
   ]
  },
  {
   "cell_type": "markdown",
   "metadata": {},
   "source": [
    "Next, we will seperate the age column to different categories. we will name the new column age_cat which will include:\n",
    "- less than 20 \n",
    "- Between 20 and 30 \n",
    "- Between 30 and 50\n",
    "- Older than 51 \n",
    "This will help answer if older / younger employees are more likely to resign due to dissatisfaction. "
   ]
  },
  {
   "cell_type": "code",
   "execution_count": 1327,
   "metadata": {
    "collapsed": true
   },
   "outputs": [],
   "source": [
    "dissatisfied_perc = (combined_updated\n",
    "                     .pivot_table(index='service_cat', values ='dissatisfied'))"
   ]
  },
  {
   "cell_type": "code",
   "execution_count": 1330,
   "metadata": {
    "collapsed": true
   },
   "outputs": [],
   "source": [
    "combined_updated['age'] = combined_updated['age'].astype(\"str\")"
   ]
  },
  {
   "cell_type": "code",
   "execution_count": 1331,
   "metadata": {
    "collapsed": false,
    "scrolled": true
   },
   "outputs": [
    {
     "data": {
      "text/plain": [
       "51-55            71\n",
       "nan              55\n",
       "41-45            48\n",
       "41  45           45\n",
       "46-50            42\n",
       "36-40            41\n",
       "46  50           39\n",
       "26-30            35\n",
       "21  25           33\n",
       "36  40           32\n",
       "26  30           32\n",
       "31  35           32\n",
       "21-25            29\n",
       "56 or older      29\n",
       "31-35            29\n",
       "56-60            26\n",
       "61 or older      23\n",
       "20 or younger    10\n",
       "Name: age, dtype: int64"
      ]
     },
     "execution_count": 1331,
     "metadata": {},
     "output_type": "execute_result"
    }
   ],
   "source": [
    "combined_updated[\"age\"].value_counts(dropna = False)"
   ]
  },
  {
   "cell_type": "code",
   "execution_count": 1332,
   "metadata": {
    "collapsed": false
   },
   "outputs": [],
   "source": [
    "combined_updated['age'] = (combined_updated['age']\n",
    "                                        .str.replace(\"56 or older\",\"56-60\")\n",
    "                                        .str.replace(\"61 or older\",\"61-70\")\n",
    "                                        .str.replace(\"20 or younger\",\"19-20\")\n",
    "                                        .str.replace(\"  \",\" \")\n",
    "                                        .str.replace(\"-\",\" \")\n",
    "                                        .str.split(\" \").str[1]\n",
    "                                        .astype(\"float\")\n",
    "                                        )           "
   ]
  },
  {
   "cell_type": "code",
   "execution_count": 1333,
   "metadata": {
    "collapsed": false
   },
   "outputs": [
    {
     "data": {
      "text/plain": [
       " 45.0    93\n",
       " 50.0    81\n",
       " 40.0    73\n",
       " 55.0    71\n",
       " 30.0    67\n",
       " 25.0    62\n",
       " 35.0    61\n",
       "NaN      55\n",
       " 60.0    55\n",
       " 70.0    23\n",
       " 20.0    10\n",
       "Name: age, dtype: int64"
      ]
     },
     "execution_count": 1333,
     "metadata": {},
     "output_type": "execute_result"
    }
   ],
   "source": [
    "combined_updated[\"age\"].value_counts(dropna = False)"
   ]
  },
  {
   "cell_type": "code",
   "execution_count": 1334,
   "metadata": {
    "collapsed": true
   },
   "outputs": [],
   "source": [
    "def age2(x):\n",
    "    if pd.isnull(x):\n",
    "        return np.nan\n",
    "    elif x < 20.5:\n",
    "        return \"less than 20\"\n",
    "    elif 20.0 <= x <= 30.0:\n",
    "        return \"Between 20 and 30\"\n",
    "    elif 31.0 <= x <= 50.0:\n",
    "        return \"Between 31 and 50\"\n",
    "    elif 51.0 <= x:\n",
    "        return \"Older than 50\""
   ]
  },
  {
   "cell_type": "code",
   "execution_count": 1335,
   "metadata": {
    "collapsed": true
   },
   "outputs": [],
   "source": [
    "mean_age = combined_updated['age'].mean()\n",
    "combined_updated['age'].mean()\n",
    "combined_updated['age'] = combined_updated['age'].fillna(mean_age)"
   ]
  },
  {
   "cell_type": "code",
   "execution_count": 1336,
   "metadata": {
    "collapsed": true
   },
   "outputs": [],
   "source": [
    "combined_updated['age_cat'] =(combined_updated['age']\n",
    "                                  .apply(age2))"
   ]
  },
  {
   "cell_type": "code",
   "execution_count": 1337,
   "metadata": {
    "collapsed": false
   },
   "outputs": [
    {
     "data": {
      "text/plain": [
       "less than 20          10\n",
       "Between 20 and 30    129\n",
       "Older than 50        149\n",
       "Between 31 and 50    363\n",
       "Name: age_cat, dtype: int64"
      ]
     },
     "execution_count": 1337,
     "metadata": {},
     "output_type": "execute_result"
    }
   ],
   "source": [
    "combined_updated['age_cat'].value_counts(dropna=False).sort_values()"
   ]
  },
  {
   "cell_type": "code",
   "execution_count": 1338,
   "metadata": {
    "collapsed": true
   },
   "outputs": [],
   "source": [
    "dissatisfied_perc_age = (combined_updated\n",
    "                     .pivot_table(index='age_cat', values ='dissatisfied'))"
   ]
  },
  {
   "cell_type": "code",
   "execution_count": 1341,
   "metadata": {
    "collapsed": false
   },
   "outputs": [
    {
     "data": {
      "text/plain": [
       "<matplotlib.axes._subplots.AxesSubplot at 0x7f7f99145588>"
      ]
     },
     "execution_count": 1341,
     "metadata": {},
     "output_type": "execute_result"
    },
    {
     "data": {
      "image/png": "[encoded data removed]",
      "text/plain": [
       "<matplotlib.figure.Figure at 0x7f7f99207550>"
      ]
     },
     "metadata": {},
     "output_type": "display_data"
    },
    {
     "data": {
      "image/png": "[encoded data removed]",
      "text/plain": [
       "<matplotlib.figure.Figure at 0x7f7f9917c748>"
      ]
     },
     "metadata": {},
     "output_type": "display_data"
    }
   ],
   "source": [
    "dissatisfied_perc.plot(kind=\"bar\")\n",
    "dissatisfied_perc_age.plot(kind=\"bar\")"
   ]
  },
  {
   "cell_type": "code",
   "execution_count": 1346,
   "metadata": {
    "collapsed": false
   },
   "outputs": [
    {
     "name": "stdout",
     "output_type": "stream",
     "text": [
      "             dissatisfied\n",
      "service_cat              \n",
      "Established      0.386667\n",
      "Experienced      0.343023\n",
      "New              0.295337\n",
      "Veteran          0.485294\n",
      "\n",
      "\n",
      "                   dissatisfied\n",
      "age_cat                        \n",
      "Between 20 and 30      0.364341\n",
      "Between 31 and 50      0.352617\n",
      "Older than 50          0.422819\n",
      "less than 20           0.200000\n"
     ]
    }
   ],
   "source": [
    "print(dissatisfied_perc)\n",
    "print(\"\\n\")\n",
    "print(dissatisfied_perc_age)\n"
   ]
  },
  {
   "cell_type": "markdown",
   "metadata": {},
   "source": [
    "From the analysis above, we can conclude that employees who are older are more likely to resign due to dissatisfaction with the job. for example, 42% of the employees who resigned and are older than 50 mentionned dissatisfaction as the reason. In addition, employees with 7 or more years of service, Established 38%,  are more likely to resign due to dissatisfaction with the job."
   ]
  },
  {
   "cell_type": "code",
   "execution_count": null,
   "metadata": {
    "collapsed": true
   },
   "outputs": [],
   "source": []
  }
 ],
 "metadata": {
  "kernelspec": {
   "display_name": "Python 3",
   "language": "python",
   "name": "python3"
  },
  "language_info": {
   "codemirror_mode": {
    "name": "ipython",
    "version": 3
   },
   "file_extension": ".py",
   "mimetype": "text/x-python",
   "name": "python",
   "nbconvert_exporter": "python",
   "pygments_lexer": "ipython3",
   "version": "3.4.3"
  }
 },
 "nbformat": 4,
 "nbformat_minor": 2
}
